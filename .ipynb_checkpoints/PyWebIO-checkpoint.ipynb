{
 "cells": [
  {
   "cell_type": "markdown",
   "id": "graduate-thomas",
   "metadata": {},
   "source": [
    "### PyWebIO"
   ]
  },
  {
   "cell_type": "code",
   "execution_count": 1,
   "id": "assured-binary",
   "metadata": {},
   "outputs": [
    {
     "name": "stdout",
     "output_type": "stream",
     "text": [
      "Collecting pywebio\n",
      "  Downloading pywebio-1.6.2.tar.gz (469 kB)\n",
      "Requirement already satisfied: tornado>=5.0 in c:\\users\\asus\\anaconda3\\lib\\site-packages (from pywebio) (6.1)\n",
      "Collecting user-agents\n",
      "  Downloading user_agents-2.2.0-py3-none-any.whl (9.6 kB)\n",
      "Collecting ua-parser>=0.10.0\n",
      "  Downloading ua_parser-0.15.0-py2.py3-none-any.whl (37 kB)\n",
      "Building wheels for collected packages: pywebio\n",
      "  Building wheel for pywebio (setup.py): started\n",
      "  Building wheel for pywebio (setup.py): finished with status 'done'\n",
      "  Created wheel for pywebio: filename=pywebio-1.6.2-py3-none-any.whl size=480186 sha256=2cc939d76e489a9256c1e9ebac49bafee12e85d4ae3c0cbd9151c0b267702891\n",
      "  Stored in directory: c:\\users\\asus\\appdata\\local\\pip\\cache\\wheels\\eb\\0d\\4a\\da78529ff02f472c23d54ac553fabc8dba9ae64b9e75e84878\n",
      "Successfully built pywebio\n",
      "Installing collected packages: ua-parser, user-agents, pywebio\n",
      "Successfully installed pywebio-1.6.2 ua-parser-0.15.0 user-agents-2.2.0\n"
     ]
    }
   ],
   "source": [
    "!pip install pywebio"
   ]
  },
  {
   "cell_type": "code",
   "execution_count": 2,
   "id": "published-trauma",
   "metadata": {},
   "outputs": [
    {
     "name": "stdout",
     "output_type": "stream",
     "text": [
      "Enter the namesachin\n",
      "sachin\n"
     ]
    }
   ],
   "source": [
    "a=input(\"Enter the name\")\n",
    "print(a)"
   ]
  },
  {
   "cell_type": "code",
   "execution_count": 3,
   "id": "careful-trouble",
   "metadata": {},
   "outputs": [],
   "source": [
    "from pywebio.input import *\n",
    "from pywebio.output import *"
   ]
  },
  {
   "cell_type": "code",
   "execution_count": 4,
   "id": "lyric-billy",
   "metadata": {},
   "outputs": [],
   "source": [
    "name=input(\"Enter the name\",type=\"text\")"
   ]
  },
  {
   "cell_type": "code",
   "execution_count": 5,
   "id": "intended-adventure",
   "metadata": {},
   "outputs": [],
   "source": [
    "age=input(\"Enter the age\",type=NUMBER)"
   ]
  },
  {
   "cell_type": "code",
   "execution_count": 3,
   "id": "likely-superior",
   "metadata": {},
   "outputs": [
    {
     "data": {
      "text/plain": [
       "23"
      ]
     },
     "execution_count": 3,
     "metadata": {},
     "output_type": "execute_result"
    }
   ],
   "source": [
    "age"
   ]
  },
  {
   "cell_type": "code",
   "execution_count": 4,
   "id": "exterior-music",
   "metadata": {},
   "outputs": [],
   "source": [
    "# Password input\n",
    "password = input(\"Input password\", type=PASSWORD)\n",
    "\n",
    "# Drop-down selection\n",
    "gift = select('Which gift you want?', ['keyboard', 'ipad'])\n",
    "\n",
    "# Checkbox\n",
    "agree = checkbox(\"User Term\", options=['I agree to terms and conditions'])\n",
    "\n",
    "# Single choice\n",
    "answer = radio(\"Choose one\", options=['A', 'B', 'C', 'D'])\n",
    "\n",
    "# Multi-line text input\n",
    "text = textarea('Text Area', rows=3, placeholder='Some text')\n",
    "\n",
    "# File Upload\n",
    "img = file_upload(\"Select a image:\", accept=\"image/*\")\n"
   ]
  },
  {
   "cell_type": "code",
   "execution_count": 7,
   "id": "federal-voice",
   "metadata": {},
   "outputs": [
    {
     "data": {
      "text/plain": [
       "'ipad'"
      ]
     },
     "execution_count": 7,
     "metadata": {},
     "output_type": "execute_result"
    }
   ],
   "source": [
    "gift"
   ]
  },
  {
   "cell_type": "code",
   "execution_count": 8,
   "id": "subsequent-water",
   "metadata": {},
   "outputs": [],
   "source": [
    "def check_age(p):  # return None when the check passes, otherwise return the error message\n",
    "    if p < 10:\n",
    "        return 'Too young!!'\n",
    "    if p > 60:\n",
    "        return 'Too old!!'\n",
    "\n",
    "age = input(\"How old are you?\", type=NUMBER, validate=check_age)"
   ]
  },
  {
   "cell_type": "code",
   "execution_count": 9,
   "id": "understanding-pattern",
   "metadata": {},
   "outputs": [
    {
     "data": {
      "text/plain": [
       "35"
      ]
     },
     "execution_count": 9,
     "metadata": {},
     "output_type": "execute_result"
    }
   ],
   "source": [
    "age"
   ]
  },
  {
   "cell_type": "code",
   "execution_count": 10,
   "id": "boring-ivory",
   "metadata": {},
   "outputs": [],
   "source": [
    "code = textarea('Code Edit', code={\n",
    "    'mode': \"python\",  # code language\n",
    "    'theme': 'darcula',  # Codemirror theme. Visit https://codemirror.net/demo/theme.html#cobalt to get more themes\n",
    "}, value='import something\\n# Write your python code')"
   ]
  },
  {
   "cell_type": "code",
   "execution_count": 11,
   "id": "personalized-construction",
   "metadata": {},
   "outputs": [
    {
     "data": {
      "text/plain": [
       "'import pandas\\n# Write your python code\\nprint(\"Krish\")'"
      ]
     },
     "execution_count": 11,
     "metadata": {},
     "output_type": "execute_result"
    }
   ],
   "source": [
    "code"
   ]
  },
  {
   "cell_type": "code",
   "execution_count": 14,
   "id": "shaped-february",
   "metadata": {},
   "outputs": [],
   "source": [
    "### Input group\n",
    "data = input_group(\"Basic info\",[\n",
    "  input('Input your name', name='name'),\n",
    "  input('Input your age', name='age', type=NUMBER, validate=check_age)\n",
    "])\n"
   ]
  },
  {
   "cell_type": "code",
   "execution_count": 13,
   "id": "undefined-franklin",
   "metadata": {},
   "outputs": [
    {
     "data": {
      "text/plain": [
       "{'name': '21', 'age': 32}"
      ]
     },
     "execution_count": 13,
     "metadata": {},
     "output_type": "execute_result"
    }
   ],
   "source": [
    "data"
   ]
  },
  {
   "cell_type": "code",
   "execution_count": 2,
   "id": "biblical-trainer",
   "metadata": {},
   "outputs": [
    {
     "data": {
      "text/plain": [
       "<pywebio.output.use_scope_ at 0x2766b1e03d0>"
      ]
     },
     "execution_count": 2,
     "metadata": {},
     "output_type": "execute_result"
    }
   ],
   "source": [
    "from pywebio.output import *\n",
    "# Text Output\n",
    "put_text(\"Hello world!\")\n",
    "\n",
    "# Table Output\n",
    "put_table([\n",
    "    ['Commodity', 'Price'],\n",
    "    ['Apple', '5.5'],\n",
    "    ['Banana', '7'],\n",
    "])\n",
    "\n",
    "# Markdown Output\n",
    "put_markdown('~~Strikethrough~~')\n",
    "\n",
    "# File Output\n",
    "put_file('hello_word.txt', b'hello word!')\n",
    "\n",
    "# PopUp Output\n",
    "popup('popup title', 'popup text content')"
   ]
  },
  {
   "cell_type": "code",
   "execution_count": 3,
   "id": "cooked-welding",
   "metadata": {},
   "outputs": [],
   "source": [
    "with put_collapse('This is title'):\n",
    "    for i in range(4):\n",
    "        put_text(i)\n",
    "\n",
    "    put_table([\n",
    "        ['Commodity', 'Price'],\n",
    "        ['Apple', '5.5'],\n",
    "        ['Banana', '7'],\n",
    "    ])"
   ]
  },
  {
   "cell_type": "code",
   "execution_count": null,
   "id": "incorporate-ecuador",
   "metadata": {},
   "outputs": [],
   "source": []
  }
 ],
 "metadata": {
  "kernelspec": {
   "display_name": "Python 3 (ipykernel)",
   "language": "python",
   "name": "python3"
  },
  "language_info": {
   "codemirror_mode": {
    "name": "ipython",
    "version": 3
   },
   "file_extension": ".py",
   "mimetype": "text/x-python",
   "name": "python",
   "nbconvert_exporter": "python",
   "pygments_lexer": "ipython3",
   "version": "3.8.5"
  }
 },
 "nbformat": 4,
 "nbformat_minor": 5
}
